{
  "nbformat": 4,
  "nbformat_minor": 0,
  "metadata": {
    "colab": {
      "provenance": []
    },
    "kernelspec": {
      "name": "python3",
      "display_name": "Python 3"
    },
    "language_info": {
      "name": "python"
    }
  },
  "cells": [
    {
      "cell_type": "markdown",
      "source": [
        "**Random Forest - Regression (Scratch)**"
      ],
      "metadata": {
        "id": "S3X1Az0GltuI"
      }
    },
    {
      "cell_type": "markdown",
      "source": [
        "**Import Libraries**"
      ],
      "metadata": {
        "id": "fj_ed2ZKlRhZ"
      }
    },
    {
      "cell_type": "code",
      "execution_count": 1,
      "metadata": {
        "id": "mtSQifZ6kleu"
      },
      "outputs": [],
      "source": [
        "import numpy as np\n",
        "from collections import Counter\n",
        "from sklearn.datasets import load_diabetes\n",
        "from sklearn.model_selection import train_test_split\n",
        "from sklearn.metrics import mean_squared_error"
      ]
    },
    {
      "cell_type": "markdown",
      "source": [
        "**Code**"
      ],
      "metadata": {
        "id": "Nt0G5aDPlVzv"
      }
    },
    {
      "cell_type": "code",
      "source": [
        "class Node:\n",
        "    def __init__(self, *, value=None):\n",
        "        self.value = value\n",
        "        self.feature_index = 0\n",
        "        self.threshold = 0.0\n",
        "        self.left = None\n",
        "        self.right = None\n",
        "\n",
        "    def is_leaf_node(self):\n",
        "        return self.left is None and self.right is None"
      ],
      "metadata": {
        "id": "4bOy9X3MlEaV"
      },
      "execution_count": 2,
      "outputs": []
    },
    {
      "cell_type": "code",
      "source": [
        "class DecisionTreeRegressor:\n",
        "    def __init__(self, max_depth=None, max_features=None):\n",
        "        self.max_depth = max_depth\n",
        "        self.max_features = max_features\n",
        "\n",
        "    def fit(self, X, y):\n",
        "        self.n_features_ = X.shape[1]\n",
        "        self.tree_ = self._grow_tree(X, y)\n",
        "\n",
        "    def predict(self, X):\n",
        "        return np.array([self._predict(inputs) for inputs in X])\n",
        "\n",
        "    def _mse(self, y):\n",
        "        if len(y) == 0:\n",
        "            return 0\n",
        "        return np.mean((y - np.mean(y)) ** 2)\n",
        "\n",
        "    def _best_split(self, X, y):\n",
        "        m = y.size\n",
        "        if m <= 1:\n",
        "            return None, None\n",
        "\n",
        "        best_mse = self._mse(y)\n",
        "        best_idx, best_thr = None, None\n",
        "\n",
        "        features = np.random.choice(self.n_features_, self.max_features, replace=False) if self.max_features else range(self.n_features_)\n",
        "\n",
        "        for idx in features:\n",
        "            thresholds, values = zip(*sorted(zip(X[:, idx], y)))\n",
        "            for i in range(1, m):\n",
        "                y_left = values[:i]\n",
        "                y_right = values[i:]\n",
        "                mse_left = self._mse(y_left)\n",
        "                mse_right = self._mse(y_right)\n",
        "                mse = (i * mse_left + (m - i) * mse_right) / m\n",
        "                if thresholds[i] == thresholds[i - 1]:\n",
        "                    continue\n",
        "                if mse < best_mse:\n",
        "                    best_mse = mse\n",
        "                    best_idx = idx\n",
        "                    best_thr = (thresholds[i] + thresholds[i - 1]) / 2\n",
        "\n",
        "        return best_idx, best_thr\n",
        "\n",
        "    def _grow_tree(self, X, y, depth=0):\n",
        "        node = Node(value=np.mean(y))\n",
        "        if depth < self.max_depth:\n",
        "            idx, thr = self._best_split(X, y)\n",
        "            if idx is not None:\n",
        "                indices_left = X[:, idx] < thr\n",
        "                X_left, y_left = X[indices_left], y[indices_left]\n",
        "                X_right, y_right = X[~indices_left], y[~indices_left]\n",
        "                node.feature_index = idx\n",
        "                node.threshold = thr\n",
        "                node.left = self._grow_tree(X_left, y_left, depth + 1)\n",
        "                node.right = self._grow_tree(X_right, y_right, depth + 1)\n",
        "        return node\n",
        "\n",
        "    def _predict(self, inputs):\n",
        "        node = self.tree_\n",
        "        while node.left:\n",
        "            if inputs[node.feature_index] < node.threshold:\n",
        "                node = node.left\n",
        "            else:\n",
        "                node = node.right\n",
        "        return node.value"
      ],
      "metadata": {
        "id": "CeJ5gQZ4lB4n"
      },
      "execution_count": 3,
      "outputs": []
    },
    {
      "cell_type": "code",
      "source": [
        "class RandomForestRegressor:\n",
        "    def __init__(self, n_trees=100, max_depth=None, max_features=None):\n",
        "        self.n_trees = n_trees\n",
        "        self.max_depth = max_depth\n",
        "        self.max_features = max_features\n",
        "        self.trees = []\n",
        "\n",
        "    def fit(self, X, y):\n",
        "        self.trees = []\n",
        "        for _ in range(self.n_trees):\n",
        "            tree = DecisionTreeRegressor(max_depth=self.max_depth, max_features=self.max_features)\n",
        "            X_sample, y_sample = self._bootstrap_sample(X, y)\n",
        "            tree.fit(X_sample, y_sample)\n",
        "            self.trees.append(tree)\n",
        "\n",
        "    def predict(self, X):\n",
        "        # Collect predictions from each tree\n",
        "        tree_preds = np.array([tree.predict(X) for tree in self.trees])\n",
        "        # Average predictions for regression\n",
        "        return np.mean(tree_preds, axis=0)\n",
        "\n",
        "    def _bootstrap_sample(self, X, y):\n",
        "        n_samples = X.shape[0]\n",
        "        indices = np.random.choice(n_samples, n_samples, replace=True)\n",
        "        return X[indices], y[indices]\n",
        "\n",
        "    def mse(self, y_true, y_pred):\n",
        "        return np.mean((y_true - y_pred) ** 2)"
      ],
      "metadata": {
        "id": "_vPffyzkk8ub"
      },
      "execution_count": 4,
      "outputs": []
    },
    {
      "cell_type": "markdown",
      "source": [
        "**Load Dataset**"
      ],
      "metadata": {
        "id": "K4l0HD9llYJF"
      }
    },
    {
      "cell_type": "code",
      "source": [
        "diabetes = load_diabetes()\n",
        "X = diabetes.data\n",
        "y = diabetes.target\n",
        "print(X.shape), print(y.shape)\n",
        "print(X[:5])\n",
        "print(y[:5])"
      ],
      "metadata": {
        "colab": {
          "base_uri": "https://localhost:8080/"
        },
        "id": "x-ck_UH3kx6d",
        "outputId": "5f68600f-fc4b-4b2d-97bb-5a60d5a42d15"
      },
      "execution_count": 5,
      "outputs": [
        {
          "output_type": "stream",
          "name": "stdout",
          "text": [
            "(442, 10)\n",
            "(442,)\n",
            "[[ 0.03807591  0.05068012  0.06169621  0.02187239 -0.0442235  -0.03482076\n",
            "  -0.04340085 -0.00259226  0.01990749 -0.01764613]\n",
            " [-0.00188202 -0.04464164 -0.05147406 -0.02632753 -0.00844872 -0.01916334\n",
            "   0.07441156 -0.03949338 -0.06833155 -0.09220405]\n",
            " [ 0.08529891  0.05068012  0.04445121 -0.00567042 -0.04559945 -0.03419447\n",
            "  -0.03235593 -0.00259226  0.00286131 -0.02593034]\n",
            " [-0.08906294 -0.04464164 -0.01159501 -0.03665608  0.01219057  0.02499059\n",
            "  -0.03603757  0.03430886  0.02268774 -0.00936191]\n",
            " [ 0.00538306 -0.04464164 -0.03638469  0.02187239  0.00393485  0.01559614\n",
            "   0.00814208 -0.00259226 -0.03198764 -0.04664087]]\n",
            "[151.  75. 141. 206. 135.]\n"
          ]
        }
      ]
    },
    {
      "cell_type": "code",
      "source": [
        "# Split the data into training and testing sets\n",
        "X_train, X_test, y_train, y_test = train_test_split(X, y, test_size=0.2, random_state=42)\n",
        "X_train.shape, X_test.shape, y_train.shape, y_test.shape"
      ],
      "metadata": {
        "colab": {
          "base_uri": "https://localhost:8080/"
        },
        "id": "JjI3-URmkyVO",
        "outputId": "42f235ca-ae07-4e90-d2bf-681628930695"
      },
      "execution_count": 6,
      "outputs": [
        {
          "output_type": "execute_result",
          "data": {
            "text/plain": [
              "((353, 10), (89, 10), (353,), (89,))"
            ]
          },
          "metadata": {},
          "execution_count": 6
        }
      ]
    },
    {
      "cell_type": "code",
      "source": [
        "# Train\n",
        "forest = RandomForestRegressor(n_trees=10, max_depth=3, max_features=2)\n",
        "forest.fit(X_train, y_train)"
      ],
      "metadata": {
        "id": "ixjcWCrVkyWr"
      },
      "execution_count": 7,
      "outputs": []
    },
    {
      "cell_type": "code",
      "source": [
        "# Predict the test set\n",
        "y_pred = forest.predict(X_test)\n",
        "print(y_pred[:5])"
      ],
      "metadata": {
        "colab": {
          "base_uri": "https://localhost:8080/"
        },
        "id": "oHDlBiutkrTF",
        "outputId": "faf7fa16-a579-443d-a4bf-3252606a1510"
      },
      "execution_count": 8,
      "outputs": [
        {
          "output_type": "stream",
          "name": "stdout",
          "text": [
            "[160.72857673 133.53578709 158.36682956 205.84395314 142.35568254]\n"
          ]
        }
      ]
    },
    {
      "cell_type": "code",
      "source": [
        "# Calculate Mean Squared Error\n",
        "mse = mean_squared_error(y_test, y_pred) / 100\n",
        "print(f\"Random Forest Mean Squared Error: {mse:.2f}\")"
      ],
      "metadata": {
        "colab": {
          "base_uri": "https://localhost:8080/"
        },
        "id": "ubp4d6TjkrVE",
        "outputId": "00fcdf60-de09-4ed6-a0c0-0deb9afa81ea"
      },
      "execution_count": 9,
      "outputs": [
        {
          "output_type": "stream",
          "name": "stdout",
          "text": [
            "Random Forest Mean Squared Error: 32.46\n"
          ]
        }
      ]
    },
    {
      "cell_type": "code",
      "source": [
        "# Custom MSE\n",
        "custom_mse = forest.mse(y_test, y_pred) / 100\n",
        "print(f\"Custom MSE: {custom_mse:.2f}\")"
      ],
      "metadata": {
        "colab": {
          "base_uri": "https://localhost:8080/"
        },
        "id": "WiOlGzMMkrWv",
        "outputId": "d07cc6cc-5e80-4364-99d6-0cfc289d101b"
      },
      "execution_count": 10,
      "outputs": [
        {
          "output_type": "stream",
          "name": "stdout",
          "text": [
            "Custom MSE: 32.46\n"
          ]
        }
      ]
    }
  ]
}