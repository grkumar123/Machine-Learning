{
  "nbformat": 4,
  "nbformat_minor": 0,
  "metadata": {
    "colab": {
      "provenance": []
    },
    "kernelspec": {
      "name": "python3",
      "display_name": "Python 3"
    },
    "language_info": {
      "name": "python"
    }
  },
  "cells": [
    {
      "cell_type": "markdown",
      "source": [
        "#**Simple Linear Regression - Scratch (Gradient Descent Basic Code)**"
      ],
      "metadata": {
        "id": "mCkKLbO2WE2S"
      }
    },
    {
      "cell_type": "markdown",
      "source": [
        "**Import Libraries**"
      ],
      "metadata": {
        "id": "OBLcH_ucWA36"
      }
    },
    {
      "cell_type": "code",
      "source": [
        "import numpy as np\n",
        "import pandas as pd\n",
        "import matplotlib.pyplot as plt\n",
        "import random\n",
        "import math\n",
        "import time\n",
        "import seaborn as sns\n",
        "from sklearn.model_selection import train_test_split\n",
        "from sklearn.linear_model import LinearRegression\n",
        "from sklearn.metrics import mean_squared_error, r2_score, mean_absolute_error, explained_variance_score\n",
        "from sklearn.metrics import f1_score, precision_score, recall_score, confusion_matrix\n",
        ""
      ],
      "metadata": {
        "id": "NVgHjfhZV7vi"
      },
      "execution_count": 1,
      "outputs": []
    },
    {
      "cell_type": "markdown",
      "source": [
        "**Code**"
      ],
      "metadata": {
        "id": "i4eoL_9MWKYO"
      }
    },
    {
      "cell_type": "code",
      "execution_count": 2,
      "metadata": {
        "id": "DYLllgZSUMzG"
      },
      "outputs": [],
      "source": [
        "class LinearRegressionGD:\n",
        "  def __init__(self, regul=0, reg_type=None):\n",
        "    self.regul = regul  # Regularization strength\n",
        "    self.reg_type = reg_type  # Regularization type\n",
        "    self.W = None  # Weights\n",
        "\n",
        "  def fit(self, X, y, lr=0.01, num_iter=1000):\n",
        "    # Input validation\n",
        "    if len(X) != len(y) or len(X) == 0:\n",
        "        raise ValueError(\"X and y must have the same length and cannot be empty\")\n",
        "\n",
        "    # Add bias term to X -> [1 X]\n",
        "    X = np.hstack([np.ones((len(X), 1)), X])\n",
        "\n",
        "    # Initialize W to zeros\n",
        "    self.W = np.zeros(X.shape[1])\n",
        "\n",
        "    # Use gradient descent to minimize cost function\n",
        "    for i in range(num_iter):\n",
        "        # Calculate predicted values\n",
        "        y_pred = np.dot(X, self.W)\n",
        "\n",
        "        # Calculate cost function based on regularization type\n",
        "        if self.reg_type == 'l2':\n",
        "            cost = np.sum((y_pred - y) ** 2) + self.regul * np.sum(self.W ** 2)\n",
        "        elif self.reg_type == 'l1':\n",
        "            cost = np.sum((y_pred - y) ** 2) + self.regul * np.sum(np.abs(self.W))\n",
        "\n",
        "        # Calculate gradients based on regularization type\n",
        "        if self.reg_type == 'l2':\n",
        "            gradients = 2 * np.dot(X.T, (y_pred - y)) + 2 * self.regul * self.W\n",
        "        elif self.reg_type == 'l1':\n",
        "            gradients = 2 * np.dot(X.T, (y_pred - y)) + self.regul * np.sign(self.W)\n",
        "\n",
        "        # Update W\n",
        "        self.W = self.W - lr * gradients\n",
        "\n",
        "        if i % 10 == 0:\n",
        "            print(f\"Iteration {i}, Cost: {cost}\")\n",
        "\n",
        "  def predict(self, X):\n",
        "    # Add bias term to X\n",
        "    X = np.hstack([np.ones((len(X), 1)), X])\n",
        "\n",
        "    # Calculate predicted values\n",
        "    y_pred = np.dot(X, self.W)\n",
        "    return y_pred"
      ]
    },
    {
      "cell_type": "markdown",
      "source": [
        "**Dataset**"
      ],
      "metadata": {
        "id": "ZB3X5jI_WME7"
      }
    },
    {
      "cell_type": "code",
      "source": [
        "# Training example\n",
        "X = np.array([[1, 2, 3, 4, 5]]).T\n",
        "y = np.array([2, 4, 5, 4, 5])"
      ],
      "metadata": {
        "id": "9cE-9MwsVv_g"
      },
      "execution_count": 3,
      "outputs": []
    },
    {
      "cell_type": "markdown",
      "source": [
        "**Train**"
      ],
      "metadata": {
        "id": "8xyFBiuhWQWq"
      }
    },
    {
      "cell_type": "code",
      "source": [
        "# Train for L2 regularization (Ridge)\n",
        "lr = LinearRegressionGD(regul=0.1, reg_type='l2')\n",
        "lr.fit(X, y, lr=0.01, num_iter=10)"
      ],
      "metadata": {
        "colab": {
          "base_uri": "https://localhost:8080/"
        },
        "id": "K9oOYdAoWPlu",
        "outputId": "cb4d4ddd-2568-46b0-c8fb-88df011d58fb"
      },
      "execution_count": 4,
      "outputs": [
        {
          "output_type": "stream",
          "name": "stdout",
          "text": [
            "Iteration 0, Cost: 86.0\n"
          ]
        }
      ]
    },
    {
      "cell_type": "code",
      "source": [
        "print(lr.W)"
      ],
      "metadata": {
        "colab": {
          "base_uri": "https://localhost:8080/"
        },
        "id": "vaZ_hqllWZ5T",
        "outputId": "8bc65939-e9b2-4b59-a0c9-6b402d359eca"
      },
      "execution_count": 5,
      "outputs": [
        {
          "output_type": "stream",
          "name": "stdout",
          "text": [
            "[0.60405592 1.0400099 ]\n"
          ]
        }
      ]
    },
    {
      "cell_type": "code",
      "source": [
        "# Print the slope and intercept\n",
        "slope = lr.W[1]\n",
        "intercept = lr.W[0]\n",
        "print(\"Slope (W):\", slope)\n",
        "print(\"Intercept (b):\", intercept)"
      ],
      "metadata": {
        "colab": {
          "base_uri": "https://localhost:8080/"
        },
        "id": "i-4UQgwzWdQz",
        "outputId": "00ae5011-3ab4-44bc-ceed-2d6f80610404"
      },
      "execution_count": 6,
      "outputs": [
        {
          "output_type": "stream",
          "name": "stdout",
          "text": [
            "Slope (W): 1.0400099045398028\n",
            "Intercept (b): 0.6040559187001451\n"
          ]
        }
      ]
    },
    {
      "cell_type": "markdown",
      "source": [
        "**Prediction**"
      ],
      "metadata": {
        "id": "LFrkxWKUWhcn"
      }
    },
    {
      "cell_type": "code",
      "source": [
        "# Prediction on X data (Training Data)\n",
        "y_pred = lr.predict(X)\n",
        "print(y_pred)"
      ],
      "metadata": {
        "colab": {
          "base_uri": "https://localhost:8080/"
        },
        "id": "5Z264f6DWfHl",
        "outputId": "b890d1fd-98b5-49a1-8d72-e28aa9362e74"
      },
      "execution_count": 7,
      "outputs": [
        {
          "output_type": "stream",
          "name": "stdout",
          "text": [
            "[1.64406582 2.68407573 3.72408563 4.76409554 5.80410544]\n"
          ]
        }
      ]
    },
    {
      "cell_type": "code",
      "source": [
        "# Prediction for single data point\n",
        "gyan = lr.predict(np.array([50]).reshape(-1, 1))\n",
        "print(gyan)"
      ],
      "metadata": {
        "colab": {
          "base_uri": "https://localhost:8080/"
        },
        "id": "APQx1GFwWjof",
        "outputId": "ae327dba-3cb9-4f85-f6a2-f655c9a99200"
      },
      "execution_count": 8,
      "outputs": [
        {
          "output_type": "stream",
          "name": "stdout",
          "text": [
            "[52.60455115]\n"
          ]
        }
      ]
    },
    {
      "cell_type": "markdown",
      "source": [
        "**Visualization**"
      ],
      "metadata": {
        "id": "4T0b2lbpWlsz"
      }
    },
    {
      "cell_type": "code",
      "source": [
        "# Plot the data and the linear regression line\n",
        "plt.scatter(X, y, color='blue', label='Data points')\n",
        "plt.plot(X, y_pred, color='red', label='Regression line')\n",
        "plt.xlabel('X')\n",
        "plt.ylabel('y')\n",
        "plt.title('Linear Regression')\n",
        "plt.legend()\n",
        "plt.show()"
      ],
      "metadata": {
        "colab": {
          "base_uri": "https://localhost:8080/",
          "height": 472
        },
        "id": "Cie-upnZWnOy",
        "outputId": "ba2d1ff2-b019-4cd9-9382-e443a5929b17"
      },
      "execution_count": 9,
      "outputs": [
        {
          "output_type": "display_data",
          "data": {
            "text/plain": [
              "<Figure size 640x480 with 1 Axes>"
            ],
            "image/png": "[encoded data removed]"
          },
          "metadata": {}
        }
      ]
    }
  ]
}