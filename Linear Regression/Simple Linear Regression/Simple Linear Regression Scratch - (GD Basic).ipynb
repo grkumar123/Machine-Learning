{
  "nbformat": 4,
  "nbformat_minor": 0,
  "metadata": {
    "colab": {
      "provenance": []
    },
    "kernelspec": {
      "name": "python3",
      "display_name": "Python 3"
    },
    "language_info": {
      "name": "python"
    }
  },
  "cells": [
    {
      "cell_type": "markdown",
      "source": [
        "**Simple Linear Regression - Scratch (Gradient Descent Basic Code)**"
      ],
      "metadata": {
        "id": "nWIhQPIIvzVh"
      }
    },
    {
      "cell_type": "markdown",
      "source": [
        "**Import Libraries**"
      ],
      "metadata": {
        "id": "E7Fyw46Dv-Au"
      }
    },
    {
      "cell_type": "code",
      "execution_count": null,
      "metadata": {
        "id": "41AJgISVldnJ"
      },
      "outputs": [],
      "source": [
        "import numpy as np\n",
        "import pandas as pd\n",
        "import matplotlib.pyplot as plt\n",
        "import random\n",
        "import math\n",
        "import time\n",
        "import seaborn as sns\n",
        "from sklearn.model_selection import train_test_split\n",
        "from sklearn.linear_model import LinearRegression\n",
        "from sklearn.metrics import mean_squared_error, r2_score\n",
        "from sklearn.metrics import f1_score, precision_score, recall_score, confusion_matrix, mean_absolute_error, explained_variance_score"
      ]
    },
    {
      "cell_type": "markdown",
      "source": [
        "**Code**"
      ],
      "metadata": {
        "id": "9lIGG_mAwA9O"
      }
    },
    {
      "cell_type": "code",
      "source": [
        "class LinearRegressionGD:\n",
        "    def __init__(self, regul=0):\n",
        "        self.regul = regul\n",
        "        self.W = None\n",
        "\n",
        "    def fit(self, X, y, lr=0.01, num_iter=1000):\n",
        "        # Input validation\n",
        "        if len(X) != len(y) or len(X) == 0:\n",
        "            raise ValueError(\"X and y must have the same length and cannot be empty\")\n",
        "\n",
        "        # Add bias term to X -> [1 X]\n",
        "        X = np.hstack([np.ones((len(X), 1)), X])\n",
        "\n",
        "        # Initialize W to zeros\n",
        "        self.W = np.zeros(X.shape[1])\n",
        "\n",
        "        # Use gradient descent to minimize cost function\n",
        "        for i in range(num_iter):\n",
        "            # Calculate predicted values\n",
        "            y_pred = np.dot(X, self.W)\n",
        "\n",
        "            # Calculate cost function\n",
        "            cost = np.sum((y_pred - y) ** 2) + self.regul * np.sum(self.W ** 2)\n",
        "\n",
        "            # Calculate gradients\n",
        "            gradients = 2 * np.dot(X.T, (y_pred - y)) + 2 * self.regul * self.W\n",
        "\n",
        "            # Update W\n",
        "            self.W = self.W - lr * gradients\n",
        "\n",
        "            if (i % 1000 == 0 ):\n",
        "              print(cost)\n",
        "\n",
        "    def predict(self, X):\n",
        "        # Add bias term to X\n",
        "        X = np.hstack([np.ones((len(X), 1)), X])\n",
        "\n",
        "        # Calculate predicted values\n",
        "        y_pred = np.dot(X, self.W)\n",
        "        return y_pred"
      ],
      "metadata": {
        "id": "Pgqin0cz19H7"
      },
      "execution_count": null,
      "outputs": []
    },
    {
      "cell_type": "markdown",
      "source": [
        "**Train**"
      ],
      "metadata": {
        "id": "-ebZWZvWwIQF"
      }
    },
    {
      "cell_type": "code",
      "source": [
        "X = np.array([[1, 2, 3, 4, 5]]).T\n",
        "y = np.array([2, 4, 5, 4, 5])"
      ],
      "metadata": {
        "id": "WcWyXvDfE3sM"
      },
      "execution_count": null,
      "outputs": []
    },
    {
      "cell_type": "code",
      "source": [
        "lr = LinearRegressionGD(regul=0.1)\n",
        "lr.fit(X, y, lr=0.01, num_iter=10000)"
      ],
      "metadata": {
        "id": "SzL9IborllLX",
        "colab": {
          "base_uri": "https://localhost:8080/"
        },
        "outputId": "1eae6223-11bf-48b9-c96b-71c71fb23b27"
      },
      "execution_count": null,
      "outputs": [
        {
          "output_type": "stream",
          "name": "stdout",
          "text": [
            "86.0\n",
            "2.8791287270130335\n",
            "2.8791287270130344\n",
            "2.8791287270130344\n",
            "2.8791287270130344\n",
            "2.8791287270130344\n",
            "2.8791287270130344\n",
            "2.8791287270130344\n",
            "2.8791287270130344\n",
            "2.8791287270130344\n"
          ]
        }
      ]
    },
    {
      "cell_type": "code",
      "source": [
        "print(lr.W)"
      ],
      "metadata": {
        "colab": {
          "base_uri": "https://localhost:8080/"
        },
        "id": "oI5U2lZW4eup",
        "outputId": "ab4ed4d8-2bbd-4dde-f82d-6f613dba56e9"
      },
      "execution_count": null,
      "outputs": [
        {
          "output_type": "stream",
          "name": "stdout",
          "text": [
            "[1.99964292 0.65345474]\n"
          ]
        }
      ]
    },
    {
      "cell_type": "code",
      "source": [
        "# Print the slope and intercept\n",
        "slope = lr.W[1]\n",
        "intercept = lr.W[0]\n",
        "print(\"Slope (W):\", slope)\n",
        "print(\"Intercept (b):\", intercept)"
      ],
      "metadata": {
        "colab": {
          "base_uri": "https://localhost:8080/"
        },
        "id": "qR6kyFbpJQ3c",
        "outputId": "07b8455a-898d-4157-aaa5-7ad06c1ca999"
      },
      "execution_count": null,
      "outputs": [
        {
          "output_type": "stream",
          "name": "stdout",
          "text": [
            "Slope (W): 0.6534547402249611\n",
            "Intercept (b): 1.9996429209069762\n"
          ]
        }
      ]
    },
    {
      "cell_type": "markdown",
      "source": [
        "**Prediction**"
      ],
      "metadata": {
        "id": "sEL4uFsUwKRy"
      }
    },
    {
      "cell_type": "code",
      "source": [
        "# Prediction on X data (Training Data)\n",
        "y_pred = lr.predict(X)\n",
        "print(y_pred)"
      ],
      "metadata": {
        "colab": {
          "base_uri": "https://localhost:8080/"
        },
        "id": "XJu0G6Ya8LEA",
        "outputId": "c85be156-806f-449a-96a4-32d4e2e29b0d"
      },
      "execution_count": null,
      "outputs": [
        {
          "output_type": "stream",
          "name": "stdout",
          "text": [
            "[2.65309766 3.3065524  3.96000714 4.61346188 5.26691662]\n"
          ]
        }
      ]
    },
    {
      "cell_type": "code",
      "source": [
        "# Prediction for single data point\n",
        "gyan = lr.predict(np.array([50]).reshape(-1, 1))\n",
        "print(gyan)"
      ],
      "metadata": {
        "colab": {
          "base_uri": "https://localhost:8080/"
        },
        "id": "WUNERQZAllQj",
        "outputId": "2e9d638a-6b79-4d21-e26f-6e8dd02d631d"
      },
      "execution_count": null,
      "outputs": [
        {
          "output_type": "stream",
          "name": "stdout",
          "text": [
            "[34.67237993]\n"
          ]
        }
      ]
    },
    {
      "cell_type": "markdown",
      "source": [
        "**Visualize**"
      ],
      "metadata": {
        "id": "7kGK22C12KPa"
      }
    },
    {
      "cell_type": "code",
      "source": [
        "# Plot the data and the linear regression line\n",
        "plt.scatter(X, y, color='blue', label='Data points')\n",
        "plt.plot(X, y_pred, color='red', label='Regression line')\n",
        "plt.xlabel('X')\n",
        "plt.ylabel('y')\n",
        "plt.title('Linear Regression')\n",
        "plt.legend()\n",
        "plt.show()"
      ],
      "metadata": {
        "id": "NhjLAoDT0leo",
        "colab": {
          "base_uri": "https://localhost:8080/",
          "height": 472
        },
        "outputId": "15db6c85-ec9f-44eb-e1b8-bb49bf3773a6"
      },
      "execution_count": null,
      "outputs": [
        {
          "output_type": "display_data",
          "data": {
            "text/plain": [
              "<Figure size 640x480 with 1 Axes>"
            ],
            "image/png": "[encoded data removed]"
          },
          "metadata": {}
        }
      ]
    }
  ]
}