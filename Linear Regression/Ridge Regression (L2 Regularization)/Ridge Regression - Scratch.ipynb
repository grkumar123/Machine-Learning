{
  "nbformat": 4,
  "nbformat_minor": 0,
  "metadata": {
    "colab": {
      "provenance": []
    },
    "kernelspec": {
      "name": "python3",
      "display_name": "Python 3"
    },
    "language_info": {
      "name": "python"
    }
  },
  "cells": [
    {
      "cell_type": "markdown",
      "source": [
        "**Ridge Regression - Scratch**"
      ],
      "metadata": {
        "id": "nWIhQPIIvzVh"
      }
    },
    {
      "cell_type": "markdown",
      "source": [
        "**Import Libraries**"
      ],
      "metadata": {
        "id": "E7Fyw46Dv-Au"
      }
    },
    {
      "cell_type": "code",
      "execution_count": 1,
      "metadata": {
        "id": "41AJgISVldnJ"
      },
      "outputs": [],
      "source": [
        "import numpy as np\n",
        "import pandas as pd\n",
        "import matplotlib.pyplot as plt\n",
        "import random\n",
        "import math\n",
        "import time\n",
        "import seaborn as sns\n",
        "from sklearn.model_selection import train_test_split\n",
        "from sklearn.linear_model import LinearRegression, Ridge, Lasso\n",
        "from sklearn.linear_model import Lasso\n",
        "from sklearn.datasets import make_regression, load_diabetes\n",
        "from sklearn.preprocessing import LabelEncoder, OneHotEncoder\n",
        "from sklearn.compose import ColumnTransformer\n",
        "from sklearn.metrics import mean_squared_error, r2_score\n",
        "from sklearn.metrics import f1_score, precision_score, recall_score, confusion_matrix, mean_absolute_error, explained_variance_score"
      ]
    },
    {
      "cell_type": "markdown",
      "source": [
        "**Load Dataset**"
      ],
      "metadata": {
        "id": "9lIGG_mAwA9O"
      }
    },
    {
      "cell_type": "code",
      "source": [
        "X, y = load_diabetes(return_X_y=True)\n",
        "print(X.shape), print(y.shape)"
      ],
      "metadata": {
        "colab": {
          "base_uri": "https://localhost:8080/"
        },
        "id": "PEz9VH39vQ9z",
        "outputId": "7a85fefb-3b45-400c-e344-cc5f867e0af2"
      },
      "execution_count": 2,
      "outputs": [
        {
          "output_type": "stream",
          "name": "stdout",
          "text": [
            "(442, 10)\n",
            "(442,)\n"
          ]
        },
        {
          "output_type": "execute_result",
          "data": {
            "text/plain": [
              "(None, None)"
            ]
          },
          "metadata": {},
          "execution_count": 2
        }
      ]
    },
    {
      "cell_type": "code",
      "source": [
        "print(X[:5])\n",
        "print(y[:5])"
      ],
      "metadata": {
        "colab": {
          "base_uri": "https://localhost:8080/"
        },
        "id": "L7Mn_a8zdbKr",
        "outputId": "026b2d1f-22d5-412d-914c-439438ed86f4"
      },
      "execution_count": 3,
      "outputs": [
        {
          "output_type": "stream",
          "name": "stdout",
          "text": [
            "[[ 0.03807591  0.05068012  0.06169621  0.02187239 -0.0442235  -0.03482076\n",
            "  -0.04340085 -0.00259226  0.01990749 -0.01764613]\n",
            " [-0.00188202 -0.04464164 -0.05147406 -0.02632753 -0.00844872 -0.01916334\n",
            "   0.07441156 -0.03949338 -0.06833155 -0.09220405]\n",
            " [ 0.08529891  0.05068012  0.04445121 -0.00567042 -0.04559945 -0.03419447\n",
            "  -0.03235593 -0.00259226  0.00286131 -0.02593034]\n",
            " [-0.08906294 -0.04464164 -0.01159501 -0.03665608  0.01219057  0.02499059\n",
            "  -0.03603757  0.03430886  0.02268774 -0.00936191]\n",
            " [ 0.00538306 -0.04464164 -0.03638469  0.02187239  0.00393485  0.01559614\n",
            "   0.00814208 -0.00259226 -0.03198764 -0.04664087]]\n",
            "[151.  75. 141. 206. 135.]\n"
          ]
        }
      ]
    },
    {
      "cell_type": "code",
      "source": [
        "X_train, X_test, y_train, y_test = train_test_split(X, y, test_size=0.2, random_state=4)\n",
        "X_train.shape, X_test.shape, y_train.shape, y_test.shape"
      ],
      "metadata": {
        "colab": {
          "base_uri": "https://localhost:8080/"
        },
        "id": "0ifijsZqdIu4",
        "outputId": "2ba4ce3d-56fc-4d07-fea3-a0049fc1cdbb"
      },
      "execution_count": 4,
      "outputs": [
        {
          "output_type": "execute_result",
          "data": {
            "text/plain": [
              "((353, 10), (89, 10), (353,), (89,))"
            ]
          },
          "metadata": {},
          "execution_count": 4
        }
      ]
    },
    {
      "cell_type": "code",
      "source": [
        "reg = Ridge(alpha=0.1,solver='cholesky')\n",
        "reg.fit(X_train,y_train)"
      ],
      "metadata": {
        "colab": {
          "base_uri": "https://localhost:8080/",
          "height": 75
        },
        "id": "KN7Y_AlVrkx1",
        "outputId": "15e7ad3e-06ff-4a69-cad8-5d74e59f1bc3"
      },
      "execution_count": 5,
      "outputs": [
        {
          "output_type": "execute_result",
          "data": {
            "text/plain": [
              "Ridge(alpha=0.1, solver='cholesky')"
            ],
            "text/html": [
              "<style>#sk-container-id-1 {color: black;}#sk-container-id-1 pre{padding: 0;}#sk-container-id-1 div.sk-toggleable {background-color: white;}#sk-container-id-1 label.sk-toggleable__label {cursor: pointer;display: block;width: 100%;margin-bottom: 0;padding: 0.3em;box-sizing: border-box;text-align: center;}#sk-container-id-1 label.sk-toggleable__label-arrow:before {content: \"▸\";float: left;margin-right: 0.25em;color: #696969;}#sk-container-id-1 label.sk-toggleable__label-arrow:hover:before {color: black;}#sk-container-id-1 div.sk-estimator:hover label.sk-toggleable__label-arrow:before {color: black;}#sk-container-id-1 div.sk-toggleable__content {max-height: 0;max-width: 0;overflow: hidden;text-align: left;background-color: #f0f8ff;}#sk-container-id-1 div.sk-toggleable__content pre {margin: 0.2em;color: black;border-radius: 0.25em;background-color: #f0f8ff;}#sk-container-id-1 input.sk-toggleable__control:checked~div.sk-toggleable__content {max-height: 200px;max-width: 100%;overflow: auto;}#sk-container-id-1 input.sk-toggleable__control:checked~label.sk-toggleable__label-arrow:before {content: \"▾\";}#sk-container-id-1 div.sk-estimator input.sk-toggleable__control:checked~label.sk-toggleable__label {background-color: #d4ebff;}#sk-container-id-1 div.sk-label input.sk-toggleable__control:checked~label.sk-toggleable__label {background-color: #d4ebff;}#sk-container-id-1 input.sk-hidden--visually {border: 0;clip: rect(1px 1px 1px 1px);clip: rect(1px, 1px, 1px, 1px);height: 1px;margin: -1px;overflow: hidden;padding: 0;position: absolute;width: 1px;}#sk-container-id-1 div.sk-estimator {font-family: monospace;background-color: #f0f8ff;border: 1px dotted black;border-radius: 0.25em;box-sizing: border-box;margin-bottom: 0.5em;}#sk-container-id-1 div.sk-estimator:hover {background-color: #d4ebff;}#sk-container-id-1 div.sk-parallel-item::after {content: \"\";width: 100%;border-bottom: 1px solid gray;flex-grow: 1;}#sk-container-id-1 div.sk-label:hover label.sk-toggleable__label {background-color: #d4ebff;}#sk-container-id-1 div.sk-serial::before {content: \"\";position: absolute;border-left: 1px solid gray;box-sizing: border-box;top: 0;bottom: 0;left: 50%;z-index: 0;}#sk-container-id-1 div.sk-serial {display: flex;flex-direction: column;align-items: center;background-color: white;padding-right: 0.2em;padding-left: 0.2em;position: relative;}#sk-container-id-1 div.sk-item {position: relative;z-index: 1;}#sk-container-id-1 div.sk-parallel {display: flex;align-items: stretch;justify-content: center;background-color: white;position: relative;}#sk-container-id-1 div.sk-item::before, #sk-container-id-1 div.sk-parallel-item::before {content: \"\";position: absolute;border-left: 1px solid gray;box-sizing: border-box;top: 0;bottom: 0;left: 50%;z-index: -1;}#sk-container-id-1 div.sk-parallel-item {display: flex;flex-direction: column;z-index: 1;position: relative;background-color: white;}#sk-container-id-1 div.sk-parallel-item:first-child::after {align-self: flex-end;width: 50%;}#sk-container-id-1 div.sk-parallel-item:last-child::after {align-self: flex-start;width: 50%;}#sk-container-id-1 div.sk-parallel-item:only-child::after {width: 0;}#sk-container-id-1 div.sk-dashed-wrapped {border: 1px dashed gray;margin: 0 0.4em 0.5em 0.4em;box-sizing: border-box;padding-bottom: 0.4em;background-color: white;}#sk-container-id-1 div.sk-label label {font-family: monospace;font-weight: bold;display: inline-block;line-height: 1.2em;}#sk-container-id-1 div.sk-label-container {text-align: center;}#sk-container-id-1 div.sk-container {/* jupyter's `normalize.less` sets `[hidden] { display: none; }` but bootstrap.min.css set `[hidden] { display: none !important; }` so we also need the `!important` here to be able to override the default hidden behavior on the sphinx rendered scikit-learn.org. See: https://github.com/scikit-learn/scikit-learn/issues/21755 */display: inline-block !important;position: relative;}#sk-container-id-1 div.sk-text-repr-fallback {display: none;}</style><div id=\"sk-container-id-1\" class=\"sk-top-container\"><div class=\"sk-text-repr-fallback\"><pre>Ridge(alpha=0.1, solver=&#x27;cholesky&#x27;)</pre><b>In a Jupyter environment, please rerun this cell to show the HTML representation or trust the notebook. <br />On GitHub, the HTML representation is unable to render, please try loading this page with nbviewer.org.</b></div><div class=\"sk-container\" hidden><div class=\"sk-item\"><div class=\"sk-estimator sk-toggleable\"><input class=\"sk-toggleable__control sk-hidden--visually\" id=\"sk-estimator-id-1\" type=\"checkbox\" checked><label for=\"sk-estimator-id-1\" class=\"sk-toggleable__label sk-toggleable__label-arrow\">Ridge</label><div class=\"sk-toggleable__content\"><pre>Ridge(alpha=0.1, solver=&#x27;cholesky&#x27;)</pre></div></div></div></div></div>"
            ]
          },
          "metadata": {},
          "execution_count": 5
        }
      ]
    },
    {
      "cell_type": "code",
      "source": [
        "y_pred = reg.predict(X_test)\n",
        "print(y_pred)"
      ],
      "metadata": {
        "colab": {
          "base_uri": "https://localhost:8080/"
        },
        "id": "kGkBjW0nro_j",
        "outputId": "adc56301-7886-42d7-f324-2d72d791b227"
      },
      "execution_count": 6,
      "outputs": [
        {
          "output_type": "stream",
          "name": "stdout",
          "text": [
            "[ 79.11687293 110.53477702 167.91664171  56.09370852 176.28941373\n",
            " 143.1207191  113.55542675 119.62484626  81.1578992   76.76131678\n",
            " 100.57883353 186.51861928 176.92787856 129.16688066 158.03962815\n",
            " 140.6919152  177.98896665 121.81303789 108.91384989 179.34966945\n",
            " 216.2571452  177.21873025  55.02285248 221.15400516  64.88561557\n",
            " 103.11020925 155.92973833 173.41810907  72.19426363  79.27174588\n",
            " 189.87240518 112.43816609 246.03053579 180.68495859 102.98204948\n",
            " 167.1093383  171.61286368 160.42495621 143.75222884 155.43807956\n",
            " 192.81472846 170.21104819 233.02444667  76.45676401 232.59483513\n",
            " 105.94563573 150.03909319  70.13429949 193.68093275 137.73383294\n",
            " 112.56570315 104.42101972 153.7123577  216.2568939   62.56545543\n",
            " 186.12773302 102.92375218  92.71474925 182.75690638 218.66313594\n",
            " 125.02620187 102.93275892 165.7103638  240.39090443 110.34456127\n",
            " 167.33199015 128.36423368 195.24736539 218.36239586 186.00021658\n",
            " 146.86450096 157.40897721 157.98824545 213.813442   160.40285761\n",
            " 203.281183   102.0389477  181.12917099 138.49641242 157.47633814\n",
            " 153.60640181 192.24528153 149.53345557 150.03332072  69.78530997\n",
            " 175.73769366 216.73608693 115.22679265 137.78850983]\n"
          ]
        }
      ]
    },
    {
      "cell_type": "code",
      "source": [
        "r2_score(y_test,y_pred)"
      ],
      "metadata": {
        "colab": {
          "base_uri": "https://localhost:8080/"
        },
        "id": "mzn-kUBSrsiD",
        "outputId": "0b18252f-b1db-4c4f-8b20-f172da2665c8"
      },
      "execution_count": 7,
      "outputs": [
        {
          "output_type": "execute_result",
          "data": {
            "text/plain": [
              "0.4693128853309805"
            ]
          },
          "metadata": {},
          "execution_count": 7
        }
      ]
    },
    {
      "cell_type": "code",
      "source": [
        "print(reg.coef_)\n",
        "print(reg.intercept_)"
      ],
      "metadata": {
        "colab": {
          "base_uri": "https://localhost:8080/"
        },
        "id": "XvuuxnPGrvIz",
        "outputId": "4553c84b-aa6d-4b54-e6d1-0f8507d0158c"
      },
      "execution_count": 8,
      "outputs": [
        {
          "output_type": "stream",
          "name": "stdout",
          "text": [
            "[  44.02063391 -241.69329987  452.98665299  332.04420177  -76.33686744\n",
            "  -68.52143809 -164.98809083  149.96908118  431.61347417   58.51862681]\n",
            "150.89053425602808\n"
          ]
        }
      ]
    },
    {
      "cell_type": "code",
      "source": [
        "class RidgeRegressionScratch:\n",
        "\n",
        "    def __init__(self,alpha=0.1):\n",
        "\n",
        "        self.alpha = alpha\n",
        "        self.coef_ = None\n",
        "        self.intercept_ = None\n",
        "\n",
        "    def fit(self,X_train,y_train):\n",
        "\n",
        "        X_train = np.insert(X_train,0,1,axis=1)\n",
        "        I = np.identity(X_train.shape[1])\n",
        "        I[0][0] = 0\n",
        "        result = np.linalg.inv(np.dot(X_train.T,X_train) + self.alpha * I).dot(X_train.T).dot(y_train)\n",
        "        self.intercept_ = result[0]\n",
        "        self.coef_ = result[1:]\n",
        "\n",
        "    def predict(self,X_test):\n",
        "        return np.dot(X_test,self.coef_) + self.intercept_"
      ],
      "metadata": {
        "id": "vfOfESB8rxKT"
      },
      "execution_count": 9,
      "outputs": []
    },
    {
      "cell_type": "code",
      "source": [
        "reg = RidgeRegressionScratch()\n",
        "reg.fit(X_train,y_train)"
      ],
      "metadata": {
        "id": "dLpIFdtqr4SM"
      },
      "execution_count": 10,
      "outputs": []
    },
    {
      "cell_type": "code",
      "source": [
        "y_pred = reg.predict(X_test)\n",
        "print(y_pred)"
      ],
      "metadata": {
        "colab": {
          "base_uri": "https://localhost:8080/"
        },
        "id": "pOeoDe79sAU5",
        "outputId": "64c1fcb4-52a2-48d7-c101-2fa3fde5791c"
      },
      "execution_count": 11,
      "outputs": [
        {
          "output_type": "stream",
          "name": "stdout",
          "text": [
            "[ 79.11687293 110.53477702 167.91664171  56.09370852 176.28941373\n",
            " 143.1207191  113.55542675 119.62484626  81.1578992   76.76131678\n",
            " 100.57883353 186.51861928 176.92787856 129.16688066 158.03962815\n",
            " 140.6919152  177.98896665 121.81303789 108.91384989 179.34966945\n",
            " 216.2571452  177.21873025  55.02285248 221.15400516  64.88561557\n",
            " 103.11020925 155.92973833 173.41810907  72.19426363  79.27174588\n",
            " 189.87240518 112.43816609 246.03053579 180.68495859 102.98204948\n",
            " 167.1093383  171.61286368 160.42495621 143.75222884 155.43807956\n",
            " 192.81472846 170.21104819 233.02444667  76.45676401 232.59483513\n",
            " 105.94563573 150.03909319  70.13429949 193.68093275 137.73383294\n",
            " 112.56570315 104.42101972 153.7123577  216.2568939   62.56545543\n",
            " 186.12773302 102.92375218  92.71474925 182.75690638 218.66313594\n",
            " 125.02620187 102.93275892 165.7103638  240.39090443 110.34456127\n",
            " 167.33199015 128.36423368 195.24736539 218.36239586 186.00021658\n",
            " 146.86450096 157.40897721 157.98824545 213.813442   160.40285761\n",
            " 203.281183   102.0389477  181.12917099 138.49641242 157.47633814\n",
            " 153.60640181 192.24528153 149.53345557 150.03332072  69.78530997\n",
            " 175.73769366 216.73608693 115.22679265 137.78850983]\n"
          ]
        }
      ]
    },
    {
      "cell_type": "code",
      "source": [
        "print(r2_score(y_test,y_pred))\n",
        "print(reg.coef_)\n",
        "print(reg.intercept_)"
      ],
      "metadata": {
        "colab": {
          "base_uri": "https://localhost:8080/"
        },
        "id": "eFby3TnysAXk",
        "outputId": "ee9225b7-807b-4cd9-f9d0-a15a687c72d8"
      },
      "execution_count": 12,
      "outputs": [
        {
          "output_type": "stream",
          "name": "stdout",
          "text": [
            "0.4693128853309805\n",
            "[  44.02063391 -241.69329987  452.98665299  332.04420177  -76.33686744\n",
            "  -68.52143809 -164.98809083  149.96908118  431.61347417   58.51862681]\n",
            "150.8905342560281\n"
          ]
        }
      ]
    }
  ]
}